{
  "nbformat": 4,
  "nbformat_minor": 0,
  "metadata": {
    "colab": {
      "name": "ML_Lab2.ipynb",
      "provenance": [],
      "authorship_tag": "ABX9TyMolH27dDMDo4JdMG8eQwut",
      "include_colab_link": true
    },
    "kernelspec": {
      "name": "python3",
      "display_name": "Python 3"
    },
    "language_info": {
      "name": "python"
    }
  },
  "cells": [
    {
      "cell_type": "markdown",
      "metadata": {
        "id": "view-in-github",
        "colab_type": "text"
      },
      "source": [
        "<a href=\"https://colab.research.google.com/github/YuriiBlack/Git/blob/master/ML_Lab2.ipynb\" target=\"_parent\"><img src=\"https://colab.research.google.com/assets/colab-badge.svg\" alt=\"Open In Colab\"/></a>"
      ]
    },
    {
      "cell_type": "code",
      "metadata": {
        "colab": {
          "base_uri": "https://localhost:8080/"
        },
        "id": "GK_6RRTVvetU",
        "outputId": "f29c95b9-ae24-4235-ba75-f1e0d83b62bb"
      },
      "source": [
        "import numpy as np\n",
        "l = np.array([1,2,3,4])\n",
        "print(\"Create a matrix with numpy\")\n",
        "print(l)\n",
        "print(\"Create a matrix with other method\")\n",
        "k = np.zeros( (3,4) )\n",
        "print(k)\n",
        "print(\"Multiplate with method with numpy\")\n",
        "print(k.dot(l))"
      ],
      "execution_count": 161,
      "outputs": [
        {
          "output_type": "stream",
          "name": "stdout",
          "text": [
            "Create a matrix with numpy\n",
            "[1 2 3 4]\n",
            "Create a matrix with other method\n",
            "[[0. 0. 0. 0.]\n",
            " [0. 0. 0. 0.]\n",
            " [0. 0. 0. 0.]]\n",
            "Multiplate with method with numpy\n",
            "[0. 0. 0.]\n"
          ]
        }
      ]
    },
    {
      "cell_type": "code",
      "metadata": {
        "colab": {
          "base_uri": "https://localhost:8080/"
        },
        "id": "fej4901LOjG9",
        "outputId": "91d45b0f-cd16-4abc-a4ab-7a8b4709775b"
      },
      "source": [
        "import time \n",
        "A=[[1,2,3],[4,5,6],[7,8,9]]\n",
        "B=[[1,2,3],[4,5,6],[7,8,9]]\n",
        "matrix=[]\n",
        "\n",
        "def multiplicationLineColumn(line,column):\n",
        "    try:\n",
        "        sizeLine=len(line)\n",
        "        sizeColumn=len(column)\n",
        "        if(sizeLine!=sizeColumn):\n",
        "            raise ValueError(\"Exception\")\n",
        "        res = sum([line[i] * column[i] for i in range(sizeLine)])\n",
        "        return res\n",
        "    except ValueError:\n",
        "        print(\"sould have the same len line & column\")\n",
        "\n",
        "def  getColumn(matrix,numColumn):\n",
        "    size=len(matrix)\n",
        "    column= [matrix[i][numColumn] for i in range(size)]\n",
        "    return column\n",
        "\n",
        "def getLine(matrix,numLine):\n",
        "    line = matrix[numLine]\n",
        "    return line\n",
        "timeof1 = time.time()\n",
        "for i in range(len(A)):\n",
        "    matrix.append([])\n",
        "    for j in range(len(B)):\n",
        "        matrix[i].append(multiplicationLineColumn(getLine(A,i),getColumn(B,j)))\n",
        "print(\"Matrix by Matrix without numpy:\")\n",
        "print(matrix)\n",
        "print(\"Time is:\")\n",
        "print(time.time()-timeof1)"
      ],
      "execution_count": 162,
      "outputs": [
        {
          "output_type": "stream",
          "name": "stdout",
          "text": [
            "Matrix by Matrix without numpy:\n",
            "[[30, 36, 42], [66, 81, 96], [102, 126, 150]]\n",
            "Time is:\n",
            "0.00041365623474121094\n"
          ]
        }
      ]
    },
    {
      "cell_type": "code",
      "metadata": {
        "colab": {
          "base_uri": "https://localhost:8080/"
        },
        "id": "ro5Gw5NaOmrN",
        "outputId": "e1133103-7fc9-469d-9702-1c7cc3a1ac47"
      },
      "source": [
        "import numpy as np\n",
        "a = np.array([[ 1, 2 ,3], \n",
        "                  [ 4, 5 ,6], \n",
        "                  [ 7, 8 ,9]])\n",
        "\n",
        "b = np.array([[ 1, 2 ,3], \n",
        "                  [ 4, 5 ,6], \n",
        "                  [ 7, 8 ,9]])\n",
        "\n",
        "timeof2 = time.time()\n",
        "print(\"Matrix by Matrix wuth numpy:\")\n",
        "print(a.dot(b))\n",
        "print(\"Tims is:\")\n",
        "print(time.time()-timeof2)\n"
      ],
      "execution_count": 163,
      "outputs": [
        {
          "output_type": "stream",
          "name": "stdout",
          "text": [
            "Matrix by Matrix wuth numpy:\n",
            "[[ 30  36  42]\n",
            " [ 66  81  96]\n",
            " [102 126 150]]\n",
            "Tims is:\n",
            "0.0036454200744628906\n"
          ]
        }
      ]
    },
    {
      "cell_type": "code",
      "metadata": {
        "id": "v4Tj_0BBUZq9"
      },
      "source": [
        "def vectorbyVector(vectorA, vectorB, lenght):\n",
        "    scalar = 0\n",
        "    for i in range(lenght):\n",
        "        scalar = scalar + vectorA[i]*vectorB[i]\n",
        "    return scalar"
      ],
      "execution_count": 164,
      "outputs": []
    },
    {
      "cell_type": "code",
      "metadata": {
        "colab": {
          "base_uri": "https://localhost:8080/"
        },
        "id": "J8Hy9TE-VI3g",
        "outputId": "6c436b3b-dc2e-47b7-ab2d-65ad48b6861b"
      },
      "source": [
        "timeof3 = time.time()\n",
        "print(\"Time is\")\n",
        "print(time.time()-timeof3)\n",
        "print(\"Vector by Vactor without numpy:\")\n",
        "vectorbyVector(vectoeA,vectorB,200)\n"
      ],
      "execution_count": 165,
      "outputs": [
        {
          "output_type": "stream",
          "name": "stdout",
          "text": [
            "Time is\n",
            "0.0003845691680908203\n",
            "Vector by Vactor without numpy:\n"
          ]
        },
        {
          "output_type": "execute_result",
          "data": {
            "text/plain": [
              "53.572024291820796"
            ]
          },
          "metadata": {},
          "execution_count": 165
        }
      ]
    },
    {
      "cell_type": "code",
      "metadata": {
        "colab": {
          "base_uri": "https://localhost:8080/"
        },
        "id": "hx6kZ2Z7Wm0Z",
        "outputId": "91abbd4d-e1d4-4fec-e30d-b5e7c0c0b33d"
      },
      "source": [
        "timeof4 = time.time()\n",
        "print(\"Time is :\")\n",
        "print(time.time()-timeof4)\n",
        "print(\"Vector by Vector with numpy:\")\n",
        "print(vectoeA.dot(vectorB))\n"
      ],
      "execution_count": 166,
      "outputs": [
        {
          "output_type": "stream",
          "name": "stdout",
          "text": [
            "Time is :\n",
            "0.0021543502807617188\n",
            "Vector by Vector with numpy:\n",
            "53.57202429182078\n"
          ]
        }
      ]
    },
    {
      "cell_type": "code",
      "metadata": {
        "colab": {
          "base_uri": "https://localhost:8080/"
        },
        "id": "QKFhqzuu8NFX",
        "outputId": "2d944cac-8afd-4c15-ce70-8b538e37cf3b"
      },
      "source": [
        "a1 = np.array([[ 1, 2 ,3], \n",
        "                  [ 4, 5 ,6], \n",
        "                  [ 7, 8 ,9]])\n",
        "\n",
        "list1 = [1, 2, 3]\n",
        "vector1 = np.array(list1)\n",
        "\n",
        "print(\"Matrix by Vector:\")\n",
        "print(a1.dot(vector1))\n",
        "print(\"Vector by Metrix:\")\n",
        "print(vector1.dot(a1))"
      ],
      "execution_count": 167,
      "outputs": [
        {
          "output_type": "stream",
          "name": "stdout",
          "text": [
            "Matrix by Vector:\n",
            "[14 32 50]\n",
            "Vector by Metrix:\n",
            "[30 36 42]\n"
          ]
        }
      ]
    }
  ]
}